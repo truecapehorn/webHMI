{
 "cells": [
  {
   "cell_type": "code",
   "execution_count": 1,
   "metadata": {},
   "outputs": [
    {
     "ename": "ModuleNotFoundError",
     "evalue": "No module named 'requests'",
     "output_type": "error",
     "traceback": [
      "\u001b[0;31m---------------------------------------------------------------------------\u001b[0m",
      "\u001b[0;31mModuleNotFoundError\u001b[0m                       Traceback (most recent call last)",
      "\u001b[0;32m<ipython-input-1-c0b0ed3da5e0>\u001b[0m in \u001b[0;36m<module>\u001b[0;34m\u001b[0m\n\u001b[0;32m----> 1\u001b[0;31m \u001b[0;32mfrom\u001b[0m \u001b[0mAPI_webHMI\u001b[0m \u001b[0;32mimport\u001b[0m \u001b[0;34m*\u001b[0m\u001b[0;34m\u001b[0m\u001b[0;34m\u001b[0m\u001b[0m\n\u001b[0m\u001b[1;32m      2\u001b[0m \u001b[0;32mfrom\u001b[0m \u001b[0mdefs\u001b[0m \u001b[0;32mimport\u001b[0m \u001b[0;34m*\u001b[0m\u001b[0;34m\u001b[0m\u001b[0;34m\u001b[0m\u001b[0m\n\u001b[1;32m      3\u001b[0m \u001b[0;32mfrom\u001b[0m \u001b[0mhead\u001b[0m \u001b[0;32mimport\u001b[0m \u001b[0mheaders\u001b[0m\u001b[0;34m,\u001b[0m \u001b[0mdevice_adress\u001b[0m\u001b[0;34m\u001b[0m\u001b[0;34m\u001b[0m\u001b[0m\n\u001b[1;32m      4\u001b[0m \u001b[0;32mimport\u001b[0m \u001b[0mpandas\u001b[0m \u001b[0;32mas\u001b[0m \u001b[0mpd\u001b[0m\u001b[0;34m\u001b[0m\u001b[0;34m\u001b[0m\u001b[0m\n\u001b[1;32m      5\u001b[0m \u001b[0;32mimport\u001b[0m \u001b[0mnumpy\u001b[0m \u001b[0;32mas\u001b[0m \u001b[0mnp\u001b[0m\u001b[0;34m\u001b[0m\u001b[0;34m\u001b[0m\u001b[0m\n",
      "\u001b[0;32m~/python_scripts/Jupytery/webhmi_notebook/API_webHMI.py\u001b[0m in \u001b[0;36m<module>\u001b[0;34m\u001b[0m\n\u001b[0;32m----> 1\u001b[0;31m \u001b[0;32mimport\u001b[0m \u001b[0mrequests\u001b[0m\u001b[0;34m\u001b[0m\u001b[0;34m\u001b[0m\u001b[0m\n\u001b[0m\u001b[1;32m      2\u001b[0m \u001b[0;32mimport\u001b[0m \u001b[0mjson\u001b[0m\u001b[0;34m\u001b[0m\u001b[0;34m\u001b[0m\u001b[0m\n\u001b[1;32m      3\u001b[0m \u001b[0;32mimport\u001b[0m \u001b[0mtime\u001b[0m\u001b[0;34m\u001b[0m\u001b[0;34m\u001b[0m\u001b[0m\n\u001b[1;32m      4\u001b[0m \u001b[0;34m\u001b[0m\u001b[0m\n\u001b[1;32m      5\u001b[0m \u001b[0;34m\u001b[0m\u001b[0m\n",
      "\u001b[0;31mModuleNotFoundError\u001b[0m: No module named 'requests'"
     ]
    }
   ],
   "source": [
    "from API_webHMI import *\n",
    "from defs import *\n",
    "from head import headers, device_adress\n",
    "import pandas as pd\n",
    "import numpy as np\n",
    "%matplotlib inline\n",
    "import matplotlib.pyplot as plt\n",
    "from matplotlib.pyplot import figure\n",
    "\n"
   ]
  },
  {
   "cell_type": "code",
   "execution_count": null,
   "metadata": {},
   "outputs": [],
   "source": [
    "pd.set_option('display.max_columns', None)\n",
    "pd.set_option('display.max_rows', None)"
   ]
  },
  {
   "cell_type": "code",
   "execution_count": null,
   "metadata": {},
   "outputs": [],
   "source": [
    "def conn():\n",
    "    print('1: Connection Req\\n')\n",
    "    # displayHeader(headers)\n",
    "    req1 = connectionList(device_adress, headers)  # pobranie listy polaczen plc.\n",
    "    return req1"
   ]
  },
  {
   "cell_type": "code",
   "execution_count": null,
   "metadata": {
    "scrolled": false
   },
   "outputs": [],
   "source": [
    "req1=conn()\n",
    "connections=pd.DataFrame(req1)\n",
    "connections['plcid']=connections['id']\n",
    "connections.index=connections['id']\n",
    "connections.head()"
   ]
  },
  {
   "cell_type": "code",
   "execution_count": null,
   "metadata": {
    "scrolled": true
   },
   "outputs": [],
   "source": [
    "def reg():\n",
    "    print('\\n2 :Registers Req\\n')\n",
    "    # displayHeader(headers)  # wystarczy podstawowy naglowek\n",
    "    req2 = registerList(device_adress, headers)  # odczytanie listy rejestrow\n",
    "    return req2\n",
    "registers=pd.DataFrame(reg())\n",
    "registers.head()"
   ]
  },
  {
   "cell_type": "code",
   "execution_count": null,
   "metadata": {
    "scrolled": true
   },
   "outputs": [],
   "source": [
    "regList = pd.merge(registers,connections[['title','plcid']],on='plcid')\n",
    "regList.index=regList['id']\n",
    "regList.head()"
   ]
  },
  {
   "cell_type": "code",
   "execution_count": null,
   "metadata": {
    "scrolled": false
   },
   "outputs": [],
   "source": [
    "regList[regList['plcid']=='3']"
   ]
  },
  {
   "cell_type": "code",
   "execution_count": null,
   "metadata": {
    "scrolled": true
   },
   "outputs": [],
   "source": [
    "regListEnable=regList[regList['disabled']=='0']\n",
    "regListEnable.head()"
   ]
  },
  {
   "cell_type": "code",
   "execution_count": null,
   "metadata": {},
   "outputs": [],
   "source": [
    "regList[regList['title_x'].str.contains('Flow m3/h')].head()"
   ]
  },
  {
   "cell_type": "code",
   "execution_count": null,
   "metadata": {},
   "outputs": [],
   "source": [
    "def graphListReq():\n",
    "    print('\\n3 :Graph Req\\n')\n",
    "    # displayHeader(headers)  # wystarczy podstawowy naglowek\n",
    "    req3 = graphList(device_adress, headers)\n",
    "    return req3\n"
   ]
  },
  {
   "cell_type": "code",
   "execution_count": null,
   "metadata": {},
   "outputs": [],
   "source": [
    "graph=graphListReq()"
   ]
  },
  {
   "cell_type": "code",
   "execution_count": null,
   "metadata": {},
   "outputs": [],
   "source": [
    "graphList=pd.DataFrame(graph)\n",
    "graphList.index=graphList['id']\n",
    "graphList"
   ]
  },
  {
   "cell_type": "code",
   "execution_count": null,
   "metadata": {
    "scrolled": false
   },
   "outputs": [],
   "source": [
    "from datetime import datetime\n",
    "\n",
    "def graphDataReq(headers, k):\n",
    "    print('\\n4 :Graph Data Req\\n')\n",
    "    # displayHeader(headers)  # wystarczy podstawowy naglowek\n",
    "    req4 = getGraph(device_adress, headers, k)  # odczytanie danych z wykresow\n",
    "    return req4\n",
    "\n",
    "\n",
    "\n",
    "def range(rok,miesiac,dzien):\n",
    "    wh_slices = 800\n",
    "    length = 7\n",
    "    dt = datetime(rok,miesiac,dzien)\n",
    "    unixtime = time.mktime(dt.timetuple())  # - time.timezone\n",
    "    date = datetime.fromtimestamp(unixtime).strftime('%Y-%m-%d  %H:%M:%S')\n",
    "    wh_start = int(unixtime)\n",
    "    return wh_start, wh_slices, date, length\n",
    "\n",
    "def head(wh_start, wh_slices, lenght):\n",
    "    # Ustalenie nagłowka dla wykresu\n",
    "    wh_stop = wh_start + lenght * 60 * 60 * 24\n",
    "    headers['X-WH-CONNS'] = ''\n",
    "    headers['X-WH-REGS'] = ''\n",
    "    headers['X-WH-START'] = str(wh_start)\n",
    "    headers['X-WH-END'] = str(wh_stop)\n",
    "    headers['X-WH-SLICES'] = str(wh_slices)\n",
    "    return headers\n",
    "\n",
    "wh_start, wh_slices, date, lenght=range(2019,2,4)\n",
    "headers = head(wh_start, wh_slices, lenght)\n",
    "\n",
    "headers"
   ]
  },
  {
   "cell_type": "code",
   "execution_count": null,
   "metadata": {
    "scrolled": false
   },
   "outputs": [],
   "source": [
    "rawData=graphDataReq(headers,18)"
   ]
  },
  {
   "cell_type": "code",
   "execution_count": null,
   "metadata": {
    "scrolled": false
   },
   "outputs": [],
   "source": [
    "raw=pd.DataFrame(rawData)\n",
    "wiatr=raw\n",
    "wiatr['x'] = pd.to_datetime(wiatr['x'], unit='ms')\n",
    "wiatr.size"
   ]
  },
  {
   "cell_type": "code",
   "execution_count": null,
   "metadata": {
    "scrolled": false
   },
   "outputs": [],
   "source": [
    "old_names = wiatr.columns.tolist()\n",
    "new_names = [(i,regList.loc[i,'title_y'],regList.loc[i,'title_x']) for i in old_names if i !='x']\n",
    "wiatr.rename(columns=dict(zip(old_names, new_names)), inplace=True)\n",
    "wiatr.head()"
   ]
  },
  {
   "cell_type": "code",
   "execution_count": null,
   "metadata": {
    "scrolled": false
   },
   "outputs": [],
   "source": [
    "wind=pd.DataFrame(dict([(('Time',''),wiatr['x'])]))\n",
    "dd=[wind]\n",
    "# dd=[]\n",
    "for i in wiatr.keys():\n",
    "    if i!='x':\n",
    "        vals=['min','avg','max']\n",
    "        devs=wiatr[i].str.split(';', expand=True).rename(columns = lambda x:vals[x] )  \n",
    "        dfp= pd.DataFrame(dict([\n",
    "            ((i,'min'), devs['min'].astype('float')),\n",
    "            ((i,'avg'), devs['avg'].astype('float')),\n",
    "            ((i,'max'), devs['max'].astype('float')),\n",
    "        ]))\n",
    "        dd.append(dfp)\n",
    "df = pd.concat(dd, axis=1)\n",
    "df.set_index('Time', inplace=True)\n",
    "# df.index=wiatr['x']\n",
    "# df=df.reset_index()\n",
    "# pd.merge(left=df, right=wind, left_index=True, right_index=True)\n",
    "df.head()"
   ]
  },
  {
   "cell_type": "code",
   "execution_count": null,
   "metadata": {
    "scrolled": true
   },
   "outputs": [],
   "source": [
    "lista=[x for x in df.columns.tolist() if x[1]=='avg']\n",
    "mask=df[lista]\n",
    "mask.head()\n"
   ]
  },
  {
   "cell_type": "code",
   "execution_count": null,
   "metadata": {
    "scrolled": false
   },
   "outputs": [],
   "source": [
    "# plt.rcParams[\"figure.figsize\"] = (20,10)\n",
    "mask.plot(figsize=(20,8))\n",
    "plt.title(new_names[0][2])\n",
    "plt.xlabel(\"Data\")\n",
    "plt.ylabel(new_names[0][2])\n",
    "plt.grid(True)\n",
    "plt.legend(loc='center left', bbox_to_anchor=(1.03, 0.5))\n",
    "plt.show()"
   ]
  },
  {
   "cell_type": "markdown",
   "metadata": {},
   "source": [
    "### Agregacja statystyk"
   ]
  },
  {
   "cell_type": "code",
   "execution_count": null,
   "metadata": {
    "scrolled": true
   },
   "outputs": [],
   "source": [
    "mask.agg(['mean', 'min','max'])"
   ]
  },
  {
   "cell_type": "code",
   "execution_count": null,
   "metadata": {},
   "outputs": [],
   "source": []
  }
 ],
 "metadata": {
  "kernelspec": {
   "display_name": "Python 3",
   "language": "python",
   "name": "python3"
  },
  "language_info": {
   "codemirror_mode": {
    "name": "ipython",
    "version": 3
   },
   "file_extension": ".py",
   "mimetype": "text/x-python",
   "name": "python",
   "nbconvert_exporter": "python",
   "pygments_lexer": "ipython3",
   "version": "3.6.7"
  }
 },
 "nbformat": 4,
 "nbformat_minor": 2
}
